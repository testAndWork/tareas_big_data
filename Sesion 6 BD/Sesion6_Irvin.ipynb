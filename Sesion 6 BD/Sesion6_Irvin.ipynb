{
 "cells": [
  {
   "cell_type": "code",
   "execution_count": 1,
   "id": "02d10720",
   "metadata": {},
   "outputs": [
    {
     "name": "stdout",
     "output_type": "stream",
     "text": [
      "Digite el numero a verificar: 22\n",
      "El numero es par.\n"
     ]
    }
   ],
   "source": [
    "#verificar si un numero es multiplo de 2\n",
    "\n",
    "numero = int(input('Digite el numero a verificar: '))\n",
    "\n",
    "if numero % 2 == 0 :\n",
    "    print('El numero es par.')"
   ]
  },
  {
   "cell_type": "code",
   "execution_count": 2,
   "id": "0868176b",
   "metadata": {},
   "outputs": [
    {
     "name": "stdout",
     "output_type": "stream",
     "text": [
      "Digite la contrasena: password\n",
      "Contrasena correcta.\n"
     ]
    }
   ],
   "source": [
    "#verificar contra\n",
    "\n",
    "clave = input('Digite la contrasena: ')\n",
    "\n",
    "if clave == 'password':\n",
    "    print('Contrasena correcta.')"
   ]
  },
  {
   "cell_type": "code",
   "execution_count": 7,
   "id": "a5006d46",
   "metadata": {},
   "outputs": [
    {
     "name": "stdout",
     "output_type": "stream",
     "text": [
      "Los numeros son iguales \n"
     ]
    }
   ],
   "source": [
    "x = 5\n",
    "y = 5\n",
    "\n",
    "if x > y:\n",
    "    print('El  numero mayor es x =', x)\n",
    "elif x == y:\n",
    "        print('Los numeros son iguales ')"
   ]
  },
  {
   "cell_type": "code",
   "execution_count": 10,
   "id": "99c536a4",
   "metadata": {},
   "outputs": [
    {
     "name": "stdout",
     "output_type": "stream",
     "text": [
      "El  numero mayor es x = 10\n"
     ]
    }
   ],
   "source": [
    "x = 10\n",
    "y = 9\n",
    "\n",
    "if x > y:\n",
    "    print('El  numero mayor es x =', x)\n",
    "elif x == y:\n",
    "        print('Los numeros son iguales ')\n",
    "else:\n",
    "    print('El numero mayor es y =', y)"
   ]
  },
  {
   "cell_type": "code",
   "execution_count": 15,
   "id": "5097a8b4",
   "metadata": {},
   "outputs": [
    {
     "name": "stdout",
     "output_type": "stream",
     "text": [
      "El numero es 0\n"
     ]
    }
   ],
   "source": [
    "numero = 0\n",
    "\n",
    "if numero > 0:\n",
    "    print('El numero es positio')\n",
    "elif numero < 0:\n",
    "    print('El numero es negativo')\n",
    "elif numero == 0:\n",
    "    print('El numero es 0')\n",
    "else:\n",
    "    print('No es un numero')"
   ]
  },
  {
   "cell_type": "code",
   "execution_count": 17,
   "id": "85bcf35c",
   "metadata": {},
   "outputs": [
    {
     "name": "stdout",
     "output_type": "stream",
     "text": [
      "No se\n"
     ]
    }
   ],
   "source": [
    "numero = 0\n",
    "\n",
    "x = False\n",
    "\n",
    "if x == True:\n",
    "\n",
    "    if numero > 0:\n",
    "        print('El numero es positio')\n",
    "    elif numero < 0:\n",
    "        print('El numero es negativo')\n",
    "    elif numero == 0:\n",
    "        print('El numero es 0')\n",
    "    else:\n",
    "        print('No es un numero')\n",
    "else:\n",
    "    print('No se')\n"
   ]
  },
  {
   "cell_type": "code",
   "execution_count": 18,
   "id": "2c044e30",
   "metadata": {},
   "outputs": [
    {
     "name": "stdout",
     "output_type": "stream",
     "text": [
      "A es negativo\n"
     ]
    }
   ],
   "source": [
    "a = -3\n",
    "\n",
    "if a > 0:\n",
    "    print('A es positivo')\n",
    "else:\n",
    "    print('A es negativo')"
   ]
  },
  {
   "cell_type": "code",
   "execution_count": 19,
   "id": "9a051876",
   "metadata": {},
   "outputs": [
    {
     "name": "stdout",
     "output_type": "stream",
     "text": [
      "A es negativo\n"
     ]
    }
   ],
   "source": [
    "print('A es positivo')if a > 0 else print('A es negativo')"
   ]
  },
  {
   "cell_type": "code",
   "execution_count": 20,
   "id": "159f89a8",
   "metadata": {},
   "outputs": [
    {
     "name": "stdout",
     "output_type": "stream",
     "text": [
      "A es menor que b\n"
     ]
    }
   ],
   "source": [
    "a = -3\n",
    "\n",
    "b = 4\n",
    "\n",
    "if a > b:\n",
    "    print('A es mayor que b')\n",
    "else:\n",
    "    print('A es menor que b')"
   ]
  },
  {
   "cell_type": "code",
   "execution_count": 21,
   "id": "e7d58b1e",
   "metadata": {},
   "outputs": [
    {
     "name": "stdout",
     "output_type": "stream",
     "text": [
      "A es menor que b\n"
     ]
    }
   ],
   "source": [
    "print('A es mayor que b')if a > b else print('A es menor que b')"
   ]
  },
  {
   "cell_type": "code",
   "execution_count": 29,
   "id": "8b40d831",
   "metadata": {},
   "outputs": [],
   "source": [
    "a , b = 5 , 9"
   ]
  },
  {
   "cell_type": "code",
   "execution_count": 30,
   "id": "e77147a5",
   "metadata": {},
   "outputs": [
    {
     "name": "stdout",
     "output_type": "stream",
     "text": [
      "B es mayor que A\n"
     ]
    }
   ],
   "source": [
    "print('A es mayor que b')if a > b else print('A y B son iguales') if a == b else print('B es mayor que A')"
   ]
  },
  {
   "cell_type": "code",
   "execution_count": 31,
   "id": "0124ebdf",
   "metadata": {},
   "outputs": [
    {
     "name": "stdout",
     "output_type": "stream",
     "text": [
      "El numero 5 es impar\n"
     ]
    }
   ],
   "source": [
    "\"\"\"\" \n",
    "Verificar si un numero es par, si es par que imprima\n",
    "\"El numero es par\"\n",
    "En caso contrario que imprima que es impar\n",
    "\"\"\"\n",
    "\n",
    "numero = 5\n",
    "\n",
    "print(f'El numero {numero} es par') if  numero %2 == 0 else print(f'El numero {numero} es impar')"
   ]
  },
  {
   "cell_type": "code",
   "execution_count": 43,
   "id": "b68a08ce",
   "metadata": {},
   "outputs": [
    {
     "name": "stdout",
     "output_type": "stream",
     "text": [
      "La compra total es:  72.10\n"
     ]
    }
   ],
   "source": [
    "compra = 80.11\n",
    "\n",
    "if compra > 100:\n",
    "    descuento = 0.15\n",
    "    total_compra = compra-compra*descuento\n",
    "    print(f'La compra total es: {total_compra: .2f}')\n",
    "else:\n",
    "    descuento = 0.10\n",
    "    total_compra = compra-compra*descuento\n",
    "    print(f'La compra total es: {total_compra: .2f}')"
   ]
  },
  {
   "cell_type": "code",
   "execution_count": 44,
   "id": "7861d92c",
   "metadata": {},
   "outputs": [
    {
     "name": "stdout",
     "output_type": "stream",
     "text": [
      "La compra total es:  72.10\n"
     ]
    }
   ],
   "source": [
    "descuento = 0.15 if compra >=100 else 0.10\n",
    "total_compra = compra-compra*descuento\n",
    "print(f'La compra total es: {total_compra: .2f}')"
   ]
  },
  {
   "cell_type": "code",
   "execution_count": 41,
   "id": "38277163",
   "metadata": {},
   "outputs": [
    {
     "name": "stdout",
     "output_type": "stream",
     "text": [
      "Ingresa tu edad: 22\n",
      "Cual es mi edad: 21\n",
      "Es mayor que yo\n"
     ]
    }
   ],
   "source": [
    "EdadPorDefecto = int(input('Ingresa tu edad: '))\n",
    "miedad = int(input(\"Cual es mi edad: \"))\n",
    "\n",
    "if miedad  > EdadPorDefecto:\n",
    "    print('Yo soy mayor que tu')\n",
    "    edad = miedad - EdadPorDefecto\n",
    "    if edad == 1:\n",
    "        print(f'La diferencia de anos es : {edad}')\n",
    "    elif edad > 1:\n",
    "        print(f'La diferencia de anos es : {edad}')\n",
    "        \n",
    "elif miedad < EdadPorDefecto:\n",
    "    print('Es mayor que yo')\n",
    "elif miedad == EdadPorDefecto:\n",
    "    print('Es menor que yo')"
   ]
  },
  {
   "cell_type": "code",
   "execution_count": 45,
   "id": "c983900a",
   "metadata": {},
   "outputs": [
    {
     "name": "stdout",
     "output_type": "stream",
     "text": [
      "El sueldo es 8400.0\n"
     ]
    }
   ],
   "source": [
    "sueldo = 12000\n",
    "\n",
    "impuesto = 0.3 if sueldo > 10000 else 0.2 if sueldo > 5000 else 0.1\n",
    "\n",
    "sueldo_neto = sueldo - sueldo*impuesto\n",
    "\n",
    "print(f'El sueldo es {sueldo_neto}')"
   ]
  },
  {
   "cell_type": "code",
   "execution_count": 46,
   "id": "b7b66531",
   "metadata": {},
   "outputs": [
    {
     "name": "stdout",
     "output_type": "stream",
     "text": [
      "Se cumplen ambas condiciones\n"
     ]
    }
   ],
   "source": [
    "a = 4 \n",
    "b = 5\n",
    "c = 6\n",
    "\n",
    "if a < c and b < c:\n",
    "    print('Se cumplen ambas condiciones')\n",
    "else:\n",
    "    print('No se cumple ninguna')"
   ]
  },
  {
   "cell_type": "code",
   "execution_count": 50,
   "id": "f74a96c7",
   "metadata": {},
   "outputs": [
    {
     "name": "stdout",
     "output_type": "stream",
     "text": [
      "Digite la nota del estudiante1\n",
      "Nota valida\n"
     ]
    }
   ],
   "source": [
    "nota = float(input('Digite la nota del estudiante: '))\n",
    "\n",
    "if nota > 0 and nota <= 10:\n",
    "    print('Nota valida')\n",
    "elif nota == 0:\n",
    "    print('Nota es cero')\n",
    "else:\n",
    "    print('Nota no valida')"
   ]
  },
  {
   "cell_type": "code",
   "execution_count": 53,
   "id": "93731e62",
   "metadata": {},
   "outputs": [
    {
     "name": "stdout",
     "output_type": "stream",
     "text": [
      "Digite el numero a verificar: -12\n",
      "El numero no es positivo\n"
     ]
    }
   ],
   "source": [
    "valor = int(input('Digite el numero a verificar: '))\n",
    "\n",
    "if valor % 2 == 0 and valor > 0:\n",
    "    print('El numero es positivo y par')\n",
    "elif valor % 2 != 0 and valor > 0:\n",
    "    print('El numero es positivo e impar')\n",
    "elif valor == 0:\n",
    "    print('El numero es cero')\n",
    "else:\n",
    "    print('El numero no es positivo')"
   ]
  },
  {
   "cell_type": "code",
   "execution_count": 54,
   "id": "7f193d10",
   "metadata": {},
   "outputs": [
    {
     "name": "stdout",
     "output_type": "stream",
     "text": [
      "Se cumplen alguna condicion\n"
     ]
    }
   ],
   "source": [
    "a = 4 \n",
    "b = 5\n",
    "c = 6\n",
    "\n",
    "if a < c or b < c:\n",
    "    print('Se cumplen alguna condicion')\n",
    "else:\n",
    "    print('No se cumple ninguna')"
   ]
  },
  {
   "cell_type": "code",
   "execution_count": 56,
   "id": "bcc88bdb",
   "metadata": {},
   "outputs": [
    {
     "name": "stdout",
     "output_type": "stream",
     "text": [
      "Digite el anio2024\n",
      "True\n"
     ]
    }
   ],
   "source": [
    "anio_bisiesto = int(input('Digite el anio'))\n",
    "\n",
    "anio_bisiesto = True if(anio_bisiesto % 4 == 0 and anio_bisiesto % 100 != 0) or anio_bisiesto % 400 == 0 else False\n",
    "\n",
    "print(anio_bisiesto)"
   ]
  },
  {
   "cell_type": "code",
   "execution_count": 58,
   "id": "0f77acae",
   "metadata": {},
   "outputs": [
    {
     "name": "stdout",
     "output_type": "stream",
     "text": [
      "Triangulo escaleno\n"
     ]
    }
   ],
   "source": [
    "lado1 = 4\n",
    "lado2 = 9\n",
    "lado3 = 8\n",
    "\n",
    "if lado1 == lado2 == lado3:\n",
    "    print('Triangulo equilatero')\n",
    "elif lado1 == lado2 or lado1 ==lado3 or lado2 ==lado3:\n",
    "    print('Triangulo isoseles')\n",
    "else:\n",
    "    print('Triangulo escaleno')"
   ]
  },
  {
   "cell_type": "code",
   "execution_count": 59,
   "id": "b31bc263",
   "metadata": {},
   "outputs": [
    {
     "data": {
      "text/plain": [
       "False"
      ]
     },
     "execution_count": 59,
     "metadata": {},
     "output_type": "execute_result"
    }
   ],
   "source": [
    "a = True \n",
    "\n",
    "not a"
   ]
  },
  {
   "cell_type": "code",
   "execution_count": 60,
   "id": "ddb2c2d8",
   "metadata": {},
   "outputs": [
    {
     "data": {
      "text/plain": [
       "True"
      ]
     },
     "execution_count": 60,
     "metadata": {},
     "output_type": "execute_result"
    }
   ],
   "source": [
    "b = False\n",
    "\n",
    "not b"
   ]
  },
  {
   "cell_type": "code",
   "execution_count": 62,
   "id": "4b40264c",
   "metadata": {},
   "outputs": [
    {
     "name": "stdout",
     "output_type": "stream",
     "text": [
      "False\n",
      "x no es mayor que y\n"
     ]
    }
   ],
   "source": [
    "x = 8\n",
    "\n",
    "y = 10\n",
    "\n",
    "print(x > y)\n",
    "\n",
    "if not x > y:\n",
    "    print('x no es mayor que y')\n",
    "    "
   ]
  },
  {
   "cell_type": "code",
   "execution_count": 63,
   "id": "36922d15",
   "metadata": {},
   "outputs": [
    {
     "name": "stdout",
     "output_type": "stream",
     "text": [
      "Es negativo\n"
     ]
    }
   ],
   "source": [
    "a = -1\n",
    "\n",
    "if a > 0:\n",
    "    if a % 2 == 0:\n",
    "        print('Es par y positivo')\n",
    "    else:\n",
    "        print('Es impar y positivo')\n",
    "elif a == 0:\n",
    "    print('El numero es cero')\n",
    "else:\n",
    "    print('Es negativo')"
   ]
  },
  {
   "cell_type": "code",
   "execution_count": 64,
   "id": "61e22aa6",
   "metadata": {},
   "outputs": [
    {
     "name": "stdout",
     "output_type": "stream",
     "text": [
      "Holaa\n"
     ]
    }
   ],
   "source": [
    "condicional = True\n",
    "condicional1 = False\n",
    "\n",
    "if condicional:\n",
    "    print('Holaa')\n",
    "elif condicional1:\n",
    "    pass\n",
    "else:\n",
    "    pass"
   ]
  },
  {
   "cell_type": "code",
   "execution_count": 65,
   "id": "4eb3d7d9",
   "metadata": {},
   "outputs": [
    {
     "name": "stdout",
     "output_type": "stream",
     "text": [
      "Ingresa tu edad: 21\n",
      "Ingresa la edad de la otra persona: 22\n",
      "La otra persona es mayor que yo por 1 año.\n"
     ]
    }
   ],
   "source": [
    "\n",
    "mi_edad = int(input(\"Ingresa tu edad: \"))\n",
    "\n",
    "\n",
    "tu_edad = int(input(\"Ingresa la edad de la otra persona: \"))\n",
    "\n",
    "\n",
    "if mi_edad < tu_edad:\n",
    "    diferencia = tu_edad - mi_edad\n",
    "    if diferencia == 1:\n",
    "        print(\"La otra persona es mayor que yo por 1 año.\")\n",
    "    else:\n",
    "        print(\"La otra persona es mayor que yo por\", diferencia, \"años.\")\n",
    "elif mi_edad > tu_edad:\n",
    "    diferencia = mi_edad - tu_edad\n",
    "    if diferencia == 1:\n",
    "        print(\"Yo soy mayor que la otra persona por 1 año.\")\n",
    "    else:\n",
    "        print(\"Yo soy mayor que la otra persona por\", diferencia, \"años.\")\n",
    "else:\n",
    "    print(\"Tenemos la misma edad.\")\n"
   ]
  },
  {
   "cell_type": "code",
   "execution_count": null,
   "id": "91010036",
   "metadata": {},
   "outputs": [],
   "source": []
  }
 ],
 "metadata": {
  "kernelspec": {
   "display_name": "Python 3 (ipykernel)",
   "language": "python",
   "name": "python3"
  },
  "language_info": {
   "codemirror_mode": {
    "name": "ipython",
    "version": 3
   },
   "file_extension": ".py",
   "mimetype": "text/x-python",
   "name": "python",
   "nbconvert_exporter": "python",
   "pygments_lexer": "ipython3",
   "version": "3.11.4"
  }
 },
 "nbformat": 4,
 "nbformat_minor": 5
}
