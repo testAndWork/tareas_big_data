{
 "cells": [
  {
   "cell_type": "code",
   "execution_count": 2,
   "id": "71ccbd12",
   "metadata": {
    "scrolled": true
   },
   "outputs": [
    {
     "data": {
      "text/plain": [
       "6"
      ]
     },
     "execution_count": 2,
     "metadata": {},
     "output_type": "execute_result"
    }
   ],
   "source": [
    "#funcion integrada  para calcular el maximo\n",
    "\n",
    "result = max (4, 5, 6)\n",
    "result"
   ]
  },
  {
   "cell_type": "code",
   "execution_count": 3,
   "id": "9ab94a06",
   "metadata": {},
   "outputs": [
    {
     "data": {
      "text/plain": [
       "23.0"
      ]
     },
     "execution_count": 3,
     "metadata": {},
     "output_type": "execute_result"
    }
   ],
   "source": [
    "result = 137/6\n",
    "round(result, 0)"
   ]
  },
  {
   "cell_type": "code",
   "execution_count": 4,
   "id": "bd673486",
   "metadata": {},
   "outputs": [
    {
     "data": {
      "text/plain": [
       "4"
      ]
     },
     "execution_count": 4,
     "metadata": {},
     "output_type": "execute_result"
    }
   ],
   "source": [
    "result = min (4, 5, 6, 7)\n",
    "result"
   ]
  },
  {
   "cell_type": "code",
   "execution_count": 5,
   "id": "1f8ce1fe",
   "metadata": {},
   "outputs": [
    {
     "data": {
      "text/plain": [
       "8"
      ]
     },
     "execution_count": 5,
     "metadata": {},
     "output_type": "execute_result"
    }
   ],
   "source": [
    "3 + 5"
   ]
  },
  {
   "cell_type": "code",
   "execution_count": 6,
   "id": "18e6f4e4",
   "metadata": {},
   "outputs": [
    {
     "data": {
      "text/plain": [
       "35"
      ]
     },
     "execution_count": 6,
     "metadata": {},
     "output_type": "execute_result"
    }
   ],
   "source": [
    "5*7"
   ]
  },
  {
   "cell_type": "code",
   "execution_count": null,
   "id": "a7bb9ce8",
   "metadata": {},
   "outputs": [],
   "source": [
    "# muestra constante"
   ]
  },
  {
   "cell_type": "code",
   "execution_count": 7,
   "id": "dc94b142",
   "metadata": {},
   "outputs": [
    {
     "data": {
      "text/plain": [
       "1"
      ]
     },
     "execution_count": 7,
     "metadata": {},
     "output_type": "execute_result"
    }
   ],
   "source": [
    "4//3"
   ]
  },
  {
   "cell_type": "code",
   "execution_count": 8,
   "id": "9a1689b7",
   "metadata": {},
   "outputs": [
    {
     "data": {
      "text/plain": [
       "1"
      ]
     },
     "execution_count": 8,
     "metadata": {},
     "output_type": "execute_result"
    }
   ],
   "source": [
    "4 % 3\n"
   ]
  },
  {
   "cell_type": "code",
   "execution_count": 11,
   "id": "ba13e82c",
   "metadata": {},
   "outputs": [],
   "source": [
    "# residuo"
   ]
  },
  {
   "cell_type": "code",
   "execution_count": 9,
   "id": "5e2354fb",
   "metadata": {},
   "outputs": [
    {
     "data": {
      "text/plain": [
       "3"
      ]
     },
     "execution_count": 9,
     "metadata": {},
     "output_type": "execute_result"
    }
   ],
   "source": [
    "8 % 5"
   ]
  },
  {
   "cell_type": "code",
   "execution_count": 10,
   "id": "0861ace7",
   "metadata": {},
   "outputs": [
    {
     "data": {
      "text/plain": [
       "-3.0"
      ]
     },
     "execution_count": 10,
     "metadata": {},
     "output_type": "execute_result"
    }
   ],
   "source": [
    "1 + 5 -2 * 9 / 2"
   ]
  },
  {
   "cell_type": "code",
   "execution_count": 12,
   "id": "b22bd4f8",
   "metadata": {},
   "outputs": [],
   "source": [
    "################"
   ]
  },
  {
   "cell_type": "code",
   "execution_count": 14,
   "id": "201be902",
   "metadata": {},
   "outputs": [
    {
     "name": "stdout",
     "output_type": "stream",
     "text": [
      "HOLA, MUNDO!\n",
      "HOLA, MUNDO X2!\n"
     ]
    },
    {
     "data": {
      "text/plain": [
       "15"
      ]
     },
     "execution_count": 14,
     "metadata": {},
     "output_type": "execute_result"
    }
   ],
   "source": [
    "print('HOLA, MUNDO!')\n",
    "print(\"HOLA, MUNDO X2!\")\n",
    "\n",
    "len(\"HOLA, MUNDO X2!\")#asi cuenta el index [0, 1, 2, 3, 4.... , 15]"
   ]
  },
  {
   "cell_type": "code",
   "execution_count": 15,
   "id": "84438e7d",
   "metadata": {},
   "outputs": [
    {
     "data": {
      "text/plain": [
       "str"
      ]
     },
     "execution_count": 15,
     "metadata": {},
     "output_type": "execute_result"
    }
   ],
   "source": [
    "type(\"HOLA, MUNDO X2!\")"
   ]
  },
  {
   "cell_type": "code",
   "execution_count": 16,
   "id": "b6275a83",
   "metadata": {},
   "outputs": [
    {
     "data": {
      "text/plain": [
       "'10'"
      ]
     },
     "execution_count": 16,
     "metadata": {},
     "output_type": "execute_result"
    }
   ],
   "source": [
    "str(10)# convierte a caracteres"
   ]
  },
  {
   "cell_type": "code",
   "execution_count": 17,
   "id": "c04e40bd",
   "metadata": {},
   "outputs": [
    {
     "data": {
      "text/plain": [
       "10.0"
      ]
     },
     "execution_count": 17,
     "metadata": {},
     "output_type": "execute_result"
    }
   ],
   "source": [
    "float(10)# convierte a float o decimal"
   ]
  },
  {
   "cell_type": "code",
   "execution_count": 19,
   "id": "b140a518",
   "metadata": {},
   "outputs": [
    {
     "name": "stdout",
     "output_type": "stream",
     "text": [
      "Escribe aca la cadena de caracteres a capturarhola\n"
     ]
    },
    {
     "data": {
      "text/plain": [
       "'hola'"
      ]
     },
     "execution_count": 19,
     "metadata": {},
     "output_type": "execute_result"
    }
   ],
   "source": [
    "input('Escribe aca la cadena de caracteres a capturar')"
   ]
  },
  {
   "cell_type": "code",
   "execution_count": 20,
   "id": "740e6e07",
   "metadata": {},
   "outputs": [
    {
     "name": "stdout",
     "output_type": "stream",
     "text": [
      "Escribe un numero: 12\n",
      "<class 'str'>\n",
      "12\n"
     ]
    }
   ],
   "source": [
    "numero = input('Escribe un numero: ')\n",
    "\n",
    "print(type(numero))\n",
    "print(numero)"
   ]
  },
  {
   "cell_type": "code",
   "execution_count": 21,
   "id": "e96f3f3e",
   "metadata": {},
   "outputs": [
    {
     "name": "stdout",
     "output_type": "stream",
     "text": [
      "Escribe un numero: 12\n",
      "<class 'float'>\n",
      "12.0\n"
     ]
    }
   ],
   "source": [
    "numero = float(input('Escribe un numero: '))\n",
    "\n",
    "print(type(numero))\n",
    "print(numero)"
   ]
  },
  {
   "cell_type": "code",
   "execution_count": 25,
   "id": "6e54c74b",
   "metadata": {},
   "outputs": [
    {
     "name": "stdout",
     "output_type": "stream",
     "text": [
      "Mi nombre es Irvin Gozalez y mi edad es de 21\n"
     ]
    },
    {
     "data": {
      "text/plain": [
       "13"
      ]
     },
     "execution_count": 25,
     "metadata": {},
     "output_type": "execute_result"
    }
   ],
   "source": [
    "nombre = 'Irvin Gozalez'\n",
    "edad = 21\n",
    "print('Mi nombre es', nombre, 'y mi edad es de', edad)\n",
    "len(nombre)"
   ]
  },
  {
   "cell_type": "code",
   "execution_count": 28,
   "id": "724e9bd4",
   "metadata": {},
   "outputs": [
    {
     "name": "stdout",
     "output_type": "stream",
     "text": [
      "Hola buenos dias!,es un gusto saludarlos\n"
     ]
    }
   ],
   "source": [
    "string1 = 'Hola buenos dias!'\n",
    "stgMed = ','\n",
    "string2 = 'es un gusto saludarlos'\n",
    "\n",
    "concatenada = string1 + stgMed + string2 \n",
    "\n",
    "print(concatenada)"
   ]
  },
  {
   "cell_type": "code",
   "execution_count": 30,
   "id": "e7643a1f",
   "metadata": {},
   "outputs": [
    {
     "name": "stdout",
     "output_type": "stream",
     "text": [
      "el numero es menor que 4\n"
     ]
    }
   ],
   "source": [
    "value = 3\n",
    "\n",
    "if value > 4:\n",
    "    print('El numero es mayor que 4')\n",
    "    \n",
    "    if value % 2 ==0:\n",
    "        print('el numero es par')\n",
    "        \n",
    "    else:\n",
    "        print('el numero es impar')\n",
    "        \n",
    "else:\n",
    "    print('el numero es menor que 4')"
   ]
  },
  {
   "cell_type": "code",
   "execution_count": null,
   "id": "a9a14afb",
   "metadata": {},
   "outputs": [],
   "source": []
  }
 ],
 "metadata": {
  "kernelspec": {
   "display_name": "Python 3 (ipykernel)",
   "language": "python",
   "name": "python3"
  },
  "language_info": {
   "codemirror_mode": {
    "name": "ipython",
    "version": 3
   },
   "file_extension": ".py",
   "mimetype": "text/x-python",
   "name": "python",
   "nbconvert_exporter": "python",
   "pygments_lexer": "ipython3",
   "version": "3.11.4"
  }
 },
 "nbformat": 4,
 "nbformat_minor": 5
}
