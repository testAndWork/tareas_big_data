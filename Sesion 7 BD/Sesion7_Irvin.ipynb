{
 "cells": [
  {
   "cell_type": "code",
   "execution_count": 5,
   "id": "50a6a426",
   "metadata": {},
   "outputs": [
    {
     "name": "stdout",
     "output_type": "stream",
     "text": [
      "0\n",
      "1\n",
      "2\n",
      "3\n",
      "4\n"
     ]
    }
   ],
   "source": [
    "flag = 0\n",
    "\n",
    "while flag < 5:\n",
    "    print(flag)\n",
    "    flag = flag + 1"
   ]
  },
  {
   "cell_type": "code",
   "execution_count": 8,
   "id": "1156c50f",
   "metadata": {},
   "outputs": [
    {
     "name": "stdout",
     "output_type": "stream",
     "text": [
      "0\n",
      "1\n",
      "2\n",
      "3\n",
      "4\n",
      "5\n"
     ]
    }
   ],
   "source": [
    "flag = 0\n",
    "\n",
    "while flag <= 5:\n",
    "    print(flag)\n",
    "    flag += 1"
   ]
  },
  {
   "cell_type": "code",
   "execution_count": 9,
   "id": "c74464d8",
   "metadata": {},
   "outputs": [
    {
     "name": "stdout",
     "output_type": "stream",
     "text": [
      "0\n",
      "1\n",
      "2\n",
      "3\n",
      "4\n",
      "el valor de flag es:  5\n"
     ]
    }
   ],
   "source": [
    "flag = 0\n",
    "\n",
    "while flag < 5:\n",
    "    print(flag)\n",
    "    flag +=1\n",
    "\n",
    "else:\n",
    "    print('el valor de flag es: ', flag)"
   ]
  },
  {
   "cell_type": "code",
   "execution_count": 11,
   "id": "90f711bf",
   "metadata": {},
   "outputs": [
    {
     "name": "stdout",
     "output_type": "stream",
     "text": [
      "Digite el numero para adivinar: 4\n",
      "ADIVINASTE\n"
     ]
    }
   ],
   "source": [
    "\"Solucion donde adivine un numero dado por usuario\"\n",
    "\n",
    "flag = 4\n",
    "\n",
    "estado = False\n",
    "\n",
    "while not estado:\n",
    "    numero = int(input('Digite el numero para adivinar: '))\n",
    "    \n",
    "    if numero == flag:\n",
    "        print('ADIVINASTE')\n",
    "        estado = True\n",
    "    else:\n",
    "        print('No adivinaste:(')"
   ]
  },
  {
   "cell_type": "code",
   "execution_count": 16,
   "id": "8cc13c20",
   "metadata": {},
   "outputs": [
    {
     "name": "stdout",
     "output_type": "stream",
     "text": [
      "La suma de los 10 numeros es: 55\n"
     ]
    }
   ],
   "source": [
    "n = 10\n",
    "i = 1\n",
    "suma = 0\n",
    "\n",
    "while i <= n:\n",
    "    suma += i\n",
    "    i += 1\n",
    "    \n",
    "print(f'La suma de los {n} numeros es: {suma}')"
   ]
  },
  {
   "cell_type": "code",
   "execution_count": 2,
   "id": "8c736240",
   "metadata": {},
   "outputs": [
    {
     "name": "stdout",
     "output_type": "stream",
     "text": [
      "0\n",
      "1\n",
      "2\n",
      "3\n",
      "4\n",
      "5\n",
      "6\n",
      "7\n",
      "8\n",
      "9\n",
      "10\n",
      "11\n",
      "12\n",
      "13\n",
      "14\n",
      "valor de break 15\n",
      "terminar\n"
     ]
    }
   ],
   "source": [
    "flag = 0\n",
    "\n",
    "terminar = 15\n",
    "\n",
    "while flag < 100:\n",
    "    print(flag)\n",
    "    flag += 1\n",
    "    if flag == terminar:\n",
    "        print('valor de break', flag)\n",
    "        break\n",
    "        \n",
    "print('terminar')"
   ]
  },
  {
   "cell_type": "code",
   "execution_count": 4,
   "id": "fcda1838",
   "metadata": {},
   "outputs": [
    {
     "name": "stdout",
     "output_type": "stream",
     "text": [
      "1\n",
      "2\n",
      "3\n",
      "5\n",
      "6\n"
     ]
    }
   ],
   "source": [
    "flag = 0\n",
    "\n",
    "while flag < 6:\n",
    "    flag += 1\n",
    "    if flag ==4:\n",
    "        continue\n",
    "    print(flag)"
   ]
  },
  {
   "cell_type": "code",
   "execution_count": 8,
   "id": "3419942b",
   "metadata": {},
   "outputs": [
    {
     "name": "stdout",
     "output_type": "stream",
     "text": [
      "melon\n",
      "banana\n",
      "sandia\n",
      "papaya\n"
     ]
    }
   ],
   "source": [
    "frutas = {'papaya', 'sandia', 'melon', 'banana'}\n",
    "\n",
    "for iterador in frutas:\n",
    "    print(iterador)"
   ]
  },
  {
   "cell_type": "code",
   "execution_count": 9,
   "id": "d46b64cc",
   "metadata": {},
   "outputs": [
    {
     "name": "stdout",
     "output_type": "stream",
     "text": [
      "melon\n",
      "banana\n",
      "sandia\n",
      "papaya\n"
     ]
    }
   ],
   "source": [
    "for fruta in frutas:\n",
    "    print(fruta)"
   ]
  },
  {
   "cell_type": "code",
   "execution_count": 10,
   "id": "67ad0291",
   "metadata": {},
   "outputs": [
    {
     "name": "stdout",
     "output_type": "stream",
     "text": [
      "melon\n",
      "banana\n",
      "sandia\n",
      "papaya\n"
     ]
    }
   ],
   "source": [
    "for i in frutas:\n",
    "    print(i)"
   ]
  },
  {
   "cell_type": "code",
   "execution_count": 11,
   "id": "89892a54",
   "metadata": {},
   "outputs": [
    {
     "name": "stdout",
     "output_type": "stream",
     "text": [
      "E\n",
      "s\n",
      "t\n",
      "a\n",
      " \n",
      "e\n",
      "s\n",
      " \n",
      "u\n",
      "n\n",
      "a\n",
      " \n",
      "c\n",
      "a\n",
      "d\n",
      "e\n",
      "n\n",
      "a\n",
      " \n",
      "d\n",
      "e\n",
      " \n",
      "c\n",
      "a\n",
      "r\n",
      "a\n",
      "c\n",
      "t\n",
      "e\n",
      "r\n",
      "e\n",
      "s\n"
     ]
    }
   ],
   "source": [
    "cadena = 'Esta es una cadena de caracteres'\n",
    "\n",
    "for it in cadena:\n",
    "    print(it)"
   ]
  },
  {
   "cell_type": "code",
   "execution_count": 12,
   "id": "b4e3d25d",
   "metadata": {},
   "outputs": [
    {
     "name": "stdout",
     "output_type": "stream",
     "text": [
      "1\n",
      "2\n",
      "3\n",
      "4\n",
      "5\n"
     ]
    }
   ],
   "source": [
    "tupla = (1, 2, 3, 4, 5)\n",
    "\n",
    "tupla [2]\n",
    "\n",
    "for elemento in tupla:\n",
    "    print(elemento)"
   ]
  },
  {
   "cell_type": "code",
   "execution_count": 13,
   "id": "b16d11b4",
   "metadata": {},
   "outputs": [
    {
     "name": "stdout",
     "output_type": "stream",
     "text": [
      "a\n",
      "e\n",
      "i\n",
      "o\n",
      "u\n"
     ]
    }
   ],
   "source": [
    "vocales = ('a', 'e', 'i', 'o', 'u')\n",
    "\n",
    "for vocal in vocales:\n",
    "    print(vocal)"
   ]
  },
  {
   "cell_type": "code",
   "execution_count": 18,
   "id": "b9ed3065",
   "metadata": {},
   "outputs": [
    {
     "name": "stdout",
     "output_type": "stream",
     "text": [
      "Nombre\n",
      "Apellido\n",
      "Edad\n",
      "Ciudad\n",
      "\n",
      " Nombre :  Irvin\n",
      "\n",
      " Apellido : Gonzalez\n",
      "\n",
      " Edad : 21\n",
      "\n",
      " Ciudad : Soyapango\n"
     ]
    }
   ],
   "source": [
    "informacion = {'Nombre':' Irvin',\n",
    "               'Apellido':'Gonzalez',\n",
    "               'Edad':21,\n",
    "               'Ciudad':'Soyapango'\n",
    "              }\n",
    "\n",
    "for viewinfo in informacion:\n",
    "    print(viewinfo)\n",
    "    \n",
    "for clave, valor in informacion.items():\n",
    "    print('\\n', clave , ':', valor )"
   ]
  },
  {
   "cell_type": "code",
   "execution_count": 21,
   "id": "456d1eaa",
   "metadata": {},
   "outputs": [
    {
     "name": "stdout",
     "output_type": "stream",
     "text": [
      "papaya\n",
      "sandia\n"
     ]
    }
   ],
   "source": [
    "frutas = ['papaya', 'sandia', 'melon', 'banana']\n",
    "\n",
    "for iterador in frutas:\n",
    "    print(iterador)\n",
    "    if iterador == 'sandia':\n",
    "        break"
   ]
  },
  {
   "cell_type": "code",
   "execution_count": 25,
   "id": "5944e563",
   "metadata": {},
   "outputs": [
    {
     "name": "stdout",
     "output_type": "stream",
     "text": [
      "papaya\n",
      "melon\n",
      "banana\n"
     ]
    }
   ],
   "source": [
    "frutas = ['papaya', 'sandia', 'melon', 'banana']\n",
    "\n",
    "for iterador in frutas:\n",
    "    if iterador == 'sandia':\n",
    "        continue\n",
    "    print(iterador)"
   ]
  },
  {
   "cell_type": "code",
   "execution_count": 26,
   "id": "1e1a80fd",
   "metadata": {},
   "outputs": [
    {
     "name": "stdout",
     "output_type": "stream",
     "text": [
      "0\n",
      "1\n",
      "2\n",
      "3\n",
      "4\n",
      "5\n"
     ]
    }
   ],
   "source": [
    "for it in range(6):\n",
    "    print(it)"
   ]
  },
  {
   "cell_type": "code",
   "execution_count": 27,
   "id": "1a2ffba5",
   "metadata": {},
   "outputs": [
    {
     "name": "stdout",
     "output_type": "stream",
     "text": [
      "2\n",
      "3\n",
      "4\n",
      "5\n",
      "6\n",
      "7\n"
     ]
    }
   ],
   "source": [
    "for it in range(2, 8):\n",
    "    print(it)"
   ]
  },
  {
   "cell_type": "code",
   "execution_count": 28,
   "id": "b7a3bcb0",
   "metadata": {},
   "outputs": [
    {
     "name": "stdout",
     "output_type": "stream",
     "text": [
      "4\n",
      "9\n",
      "14\n",
      "19\n",
      "24\n",
      "29\n"
     ]
    }
   ],
   "source": [
    "for it in range(4, 30, 5):\n",
    "    print(it)"
   ]
  },
  {
   "cell_type": "code",
   "execution_count": 29,
   "id": "26255e3d",
   "metadata": {},
   "outputs": [
    {
     "name": "stdout",
     "output_type": "stream",
     "text": [
      "30\n",
      "25\n",
      "20\n",
      "15\n",
      "10\n",
      "5\n"
     ]
    }
   ],
   "source": [
    "for it in range(30, 2 ,-5):\n",
    "    print(it)"
   ]
  },
  {
   "cell_type": "code",
   "execution_count": 30,
   "id": "1792afa5",
   "metadata": {},
   "outputs": [
    {
     "data": {
      "text/plain": [
       "[0, 1, 2, 3, 4, 5, 6, 7, 8, 9, 10]"
      ]
     },
     "execution_count": 30,
     "metadata": {},
     "output_type": "execute_result"
    }
   ],
   "source": [
    "lista = list(range(11))\n",
    "lista"
   ]
  },
  {
   "cell_type": "code",
   "execution_count": 31,
   "id": "b91b71a1",
   "metadata": {},
   "outputs": [
    {
     "data": {
      "text/plain": [
       "[11, 31, 51, 71, 91]"
      ]
     },
     "execution_count": 31,
     "metadata": {},
     "output_type": "execute_result"
    }
   ],
   "source": [
    "lista = list(range(11, 100, 20))\n",
    "lista"
   ]
  },
  {
   "cell_type": "code",
   "execution_count": 32,
   "id": "458a4d57",
   "metadata": {},
   "outputs": [
    {
     "name": "stdout",
     "output_type": "stream",
     "text": [
      "0\n",
      "1\n",
      "2\n",
      "3\n",
      "4\n",
      "5\n",
      "finaliza ciclo for\n"
     ]
    }
   ],
   "source": [
    "for it in range(6):\n",
    "    print(it)\n",
    "else:\n",
    "    print('finaliza ciclo for')"
   ]
  },
  {
   "cell_type": "code",
   "execution_count": 36,
   "id": "97a07115",
   "metadata": {},
   "outputs": [
    {
     "name": "stdout",
     "output_type": "stream",
     "text": [
      "4X1 = 4\n",
      "4X2 = 8\n",
      "4X3 = 12\n",
      "4X4 = 16\n",
      "4X5 = 20\n",
      "4X6 = 24\n",
      "4X7 = 28\n",
      "4X8 = 32\n",
      "4X9 = 36\n",
      "4X10 = 40\n"
     ]
    }
   ],
   "source": [
    "numero = 4\n",
    "\n",
    "for it in range(1,11):\n",
    "    resultado = numero * it\n",
    "    print(f'{numero}X{it} = {resultado}')"
   ]
  },
  {
   "cell_type": "code",
   "execution_count": null,
   "id": "8ad95b02",
   "metadata": {},
   "outputs": [],
   "source": []
  }
 ],
 "metadata": {
  "kernelspec": {
   "display_name": "Python 3 (ipykernel)",
   "language": "python",
   "name": "python3"
  },
  "language_info": {
   "codemirror_mode": {
    "name": "ipython",
    "version": 3
   },
   "file_extension": ".py",
   "mimetype": "text/x-python",
   "name": "python",
   "nbconvert_exporter": "python",
   "pygments_lexer": "ipython3",
   "version": "3.11.4"
  }
 },
 "nbformat": 4,
 "nbformat_minor": 5
}
