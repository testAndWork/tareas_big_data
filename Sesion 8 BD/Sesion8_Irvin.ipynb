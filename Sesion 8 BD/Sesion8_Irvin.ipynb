{
 "cells": [
  {
   "cell_type": "code",
   "execution_count": 4,
   "id": "b316dd5c",
   "metadata": {},
   "outputs": [],
   "source": [
    "def my_function():\n",
    "    print('******************************')\n",
    "    print('Hola mundo desde uuna funcion ')\n",
    "    print('******************************')"
   ]
  },
  {
   "cell_type": "code",
   "execution_count": 5,
   "id": "8e29d197",
   "metadata": {},
   "outputs": [
    {
     "name": "stdout",
     "output_type": "stream",
     "text": [
      "******************************\n",
      "Hola mundo desde uuna funcion \n",
      "******************************\n"
     ]
    }
   ],
   "source": [
    "my_function()"
   ]
  },
  {
   "cell_type": "code",
   "execution_count": 8,
   "id": "e399749c",
   "metadata": {},
   "outputs": [
    {
     "name": "stdout",
     "output_type": "stream",
     "text": [
      "Hola buenas\n",
      "Hola buenas\n",
      "Me gusta saludar  None\n"
     ]
    }
   ],
   "source": [
    "def saludar():\n",
    "    print('Hola buenas')\n",
    "\n",
    "saludar()\n",
    "\n",
    "print('Me gusta saludar ', saludar())"
   ]
  },
  {
   "cell_type": "code",
   "execution_count": 10,
   "id": "334e78fc",
   "metadata": {},
   "outputs": [
    {
     "name": "stdout",
     "output_type": "stream",
     "text": [
      "Hola buenas Juan!\n"
     ]
    }
   ],
   "source": [
    "def saludar(nombre):\n",
    "    print(f'Hola buenas {nombre}!')\n",
    "    \n",
    "saludar('Juan')"
   ]
  },
  {
   "cell_type": "code",
   "execution_count": 12,
   "id": "ed47f6af",
   "metadata": {},
   "outputs": [
    {
     "name": "stdout",
     "output_type": "stream",
     "text": [
      "La suma es:  9\n"
     ]
    }
   ],
   "source": [
    "def sumar(x,y):\n",
    "    suma = x+y\n",
    "    return suma\n",
    "\n",
    "resultado = sumar(4,5)\n",
    "\n",
    "print('La suma es: ', resultado)"
   ]
  },
  {
   "cell_type": "code",
   "execution_count": 16,
   "id": "77528016",
   "metadata": {},
   "outputs": [
    {
     "name": "stdout",
     "output_type": "stream",
     "text": [
      "Irvin es el nombre\n",
      "Eduardo es el nombre\n"
     ]
    }
   ],
   "source": [
    "def print_name(name):\n",
    "    print(name + ' es el nombre')\n",
    "\n",
    "print_name('Irvin')\n",
    "\n",
    "print_name('Eduardo')"
   ]
  },
  {
   "cell_type": "code",
   "execution_count": 17,
   "id": "2df5199f",
   "metadata": {},
   "outputs": [
    {
     "name": "stdout",
     "output_type": "stream",
     "text": [
      "Irvin Eduardo\n"
     ]
    }
   ],
   "source": [
    "def my_function(nombre1,nombre2):\n",
    "    print(nombre1 + ' ' + nombre2)\n",
    "\n",
    "my_function('Irvin', 'Eduardo')"
   ]
  },
  {
   "cell_type": "code",
   "execution_count": 18,
   "id": "f2cf0a05",
   "metadata": {},
   "outputs": [
    {
     "name": "stdout",
     "output_type": "stream",
     "text": [
      "Hola buenas dias Irvin!!\n"
     ]
    }
   ],
   "source": [
    "def saluda(nombre):\n",
    "    print(f'Hola buenas dias {nombre}!!')\n",
    "\n",
    "#nombre es parametro\n",
    "#Irvin es un argumento\n",
    "    \n",
    "saluda('Irvin')"
   ]
  },
  {
   "cell_type": "code",
   "execution_count": 19,
   "id": "ce076889",
   "metadata": {},
   "outputs": [
    {
     "name": "stdout",
     "output_type": "stream",
     "text": [
      "El area del rectangulo es:  20\n"
     ]
    }
   ],
   "source": [
    "def area_rectangulo(base,altura):\n",
    "    return base * altura\n",
    "area = area_rectangulo(4,5)\n",
    "\n",
    "print('El area del rectangulo es: ', area)"
   ]
  },
  {
   "cell_type": "code",
   "execution_count": 20,
   "id": "95baf57a",
   "metadata": {},
   "outputs": [
    {
     "name": "stdout",
     "output_type": "stream",
     "text": [
      "1\n",
      "2\n",
      "Hola\n"
     ]
    }
   ],
   "source": [
    "def imprimirlista(lista):\n",
    "    for it in lista:\n",
    "        print(it)\n",
    "        \n",
    "lst = [1, 2, 'Hola']\n",
    "\n",
    "imprimirlista(lst)"
   ]
  },
  {
   "cell_type": "code",
   "execution_count": 22,
   "id": "a7ecfdf6",
   "metadata": {},
   "outputs": [
    {
     "name": "stdout",
     "output_type": "stream",
     "text": [
      "El numero es impar\n"
     ]
    }
   ],
   "source": [
    "def es_par(numero):\n",
    "    if numero % 2 == 0:\n",
    "        return True\n",
    "    else:\n",
    "        return False\n",
    "    \n",
    "num = 5\n",
    "\n",
    "if es_par(num):\n",
    "    print('Es numero par')\n",
    "else:\n",
    "    print('El numero es impar')"
   ]
  },
  {
   "cell_type": "code",
   "execution_count": 25,
   "id": "aaafb1ea",
   "metadata": {},
   "outputs": [
    {
     "data": {
      "text/plain": [
       "[0, 2, 4, 6, 8, 10, 12, 14, 16, 18, 20]"
      ]
     },
     "execution_count": 25,
     "metadata": {},
     "output_type": "execute_result"
    }
   ],
   "source": [
    "def listapares(n):\n",
    "    lstpares = []\n",
    "    for it in range (n+1):\n",
    "        if it % 2 == 0:\n",
    "            lstpares.append(it)\n",
    "    return lstpares\n",
    "\n",
    "listapares(20)"
   ]
  },
  {
   "cell_type": "code",
   "execution_count": 28,
   "id": "9c71fdc7",
   "metadata": {},
   "outputs": [
    {
     "name": "stdout",
     "output_type": "stream",
     "text": [
      "El nombre es Irvin\n"
     ]
    }
   ],
   "source": [
    "def my_function(*nombre):\n",
    "    print('El nombre es '+ nombre[0])\n",
    "    \n",
    "my_function('Irvin', 'Eduardo')"
   ]
  },
  {
   "cell_type": "code",
   "execution_count": 4,
   "id": "a86fd76d",
   "metadata": {},
   "outputs": [
    {
     "name": "stdout",
     "output_type": "stream",
     "text": [
      "1\n",
      "2\n",
      "3\n",
      "Hola\n",
      "['a', 'b']\n"
     ]
    }
   ],
   "source": [
    "def imprimir_argumentos(*args):\n",
    "    for arg in args:\n",
    "        print(arg)\n",
    "\n",
    "imprimir_argumentos(1,2,3, 'Hola', ['a', 'b'])"
   ]
  },
  {
   "cell_type": "code",
   "execution_count": 26,
   "id": "0e7ba56a",
   "metadata": {},
   "outputs": [
    {
     "name": "stdout",
     "output_type": "stream",
     "text": [
      "7.7\n"
     ]
    }
   ],
   "source": [
    "def promedio_notas(*notas):\n",
    "    totalNotas =0\n",
    "    for nota in notas:\n",
    "        totalNotas +=nota\n",
    "    promedio = totalNotas/len(notas)\n",
    "    return promedio\n",
    "\n",
    "notas = [6, 7, 8, 9, 10, 6, 8]\n",
    "\n",
    "promedioFinal = promedio_notas(*notas)\n",
    "\n",
    "print(round(promedioFinal,1))"
   ]
  },
  {
   "cell_type": "code",
   "execution_count": 27,
   "id": "af69f6fc",
   "metadata": {},
   "outputs": [
    {
     "name": "stdout",
     "output_type": "stream",
     "text": [
      "Mix de frutas:  guineo manzana papaya cereza\n"
     ]
    }
   ],
   "source": [
    "def concatenar(*args):\n",
    "    resultado = \" \".join(args)\n",
    "    return resultado\n",
    "\n",
    "frutas = 'guineo', 'manzana', 'papaya', 'cereza'\n",
    "\n",
    "mixFrutas = concatenar(*frutas)\n",
    "print('Mix de frutas: ', mixFrutas)\n"
   ]
  },
  {
   "cell_type": "code",
   "execution_count": 31,
   "id": "3b47490a",
   "metadata": {},
   "outputs": [
    {
     "name": "stdout",
     "output_type": "stream",
     "text": [
      "El promedio es:  8.1\n"
     ]
    }
   ],
   "source": [
    "def media_aritmetica(*args):\n",
    "    total = sum(args)\n",
    "    cantidad = len(args)\n",
    "    media = total/cantidad\n",
    "    return media\n",
    "\n",
    "notas = [6,7,8,9,10,8,9]\n",
    "\n",
    "promedioFinal = media_aritmetica(*notas)\n",
    "\n",
    "print('El promedio es: ', round(promedioFinal,1))"
   ]
  },
  {
   "cell_type": "code",
   "execution_count": 32,
   "id": "40ef6f4a",
   "metadata": {},
   "outputs": [
    {
     "name": "stdout",
     "output_type": "stream",
     "text": [
      "El total es:  2520\n"
     ]
    }
   ],
   "source": [
    "def productoria(*args):\n",
    "    producto = 1\n",
    "    for it in args:\n",
    "        producto *= it\n",
    "    return producto\n",
    "\n",
    "numeros = [1, 3, 4, 5, 6, 7]\n",
    "\n",
    "totalMultiplicacion = productoria(*numeros)\n",
    "\n",
    "print('El total es: ', totalMultiplicacion)"
   ]
  },
  {
   "cell_type": "code",
   "execution_count": 37,
   "id": "8b2bc019",
   "metadata": {},
   "outputs": [
    {
     "name": "stdout",
     "output_type": "stream",
     "text": [
      "Titulo: Informe mensual\n",
      "Contenido: Ventas y proyecciones\n",
      "Autor: yo\n"
     ]
    }
   ],
   "source": [
    "def generar_informe(titulo, contenido, autor):\n",
    "    informe = f'Titulo: {titulo}\\nContenido: {contenido}\\nAutor: {autor}'\n",
    "    print(informe)\n",
    "\n",
    "generar_informe(titulo=\"Informe mensual\", contenido=\"Ventas y proyecciones\", autor = 'yo')"
   ]
  },
  {
   "cell_type": "code",
   "execution_count": 41,
   "id": "3dd7a0f8",
   "metadata": {},
   "outputs": [
    {
     "name": "stdout",
     "output_type": "stream",
     "text": [
      "El ultimo nombre esJuan\n"
     ]
    }
   ],
   "source": [
    "def my_function( **kid ):\n",
    "    print('El ultimo nombre es' + kid['fname'])\n",
    "\n",
    "my_function(fname = 'Juan',mname ='Maria', uname = 'Pablo')"
   ]
  },
  {
   "cell_type": "code",
   "execution_count": 43,
   "id": "066c8038",
   "metadata": {},
   "outputs": [],
   "source": [
    "def suma_recursiva(n):\n",
    "    if n == 1:\n",
    "        return 1\n",
    "    else:\n",
    "        return n + suma_recursiva(n - 1)"
   ]
  },
  {
   "cell_type": "code",
   "execution_count": 44,
   "id": "38bd8008",
   "metadata": {},
   "outputs": [
    {
     "name": "stdout",
     "output_type": "stream",
     "text": [
      "La suma es: 10\n"
     ]
    }
   ],
   "source": [
    "n = 4\n",
    "\n",
    "print(f'La suma es: {suma_recursiva (n)}')"
   ]
  },
  {
   "cell_type": "code",
   "execution_count": 46,
   "id": "811625a1",
   "metadata": {},
   "outputs": [
    {
     "name": "stdout",
     "output_type": "stream",
     "text": [
      "13\n"
     ]
    }
   ],
   "source": [
    "x = lambda a, b, c : a + b + c\n",
    "\n",
    "print(x(5, 6, 2))"
   ]
  },
  {
   "cell_type": "code",
   "execution_count": 47,
   "id": "96f874aa",
   "metadata": {},
   "outputs": [
    {
     "name": "stdout",
     "output_type": "stream",
     "text": [
      "[676, 676, 764, 242]\n"
     ]
    }
   ],
   "source": [
    "id_empleados = [341,45, 435, 676, 345,345, 676, 764,242]\n",
    "\n",
    "pares = filter(lambda x: x%2 == 0, id_empleados)\n",
    "\n",
    "print(list(pares))"
   ]
  },
  {
   "cell_type": "code",
   "execution_count": 48,
   "id": "798213b2",
   "metadata": {},
   "outputs": [
    {
     "name": "stdout",
     "output_type": "stream",
     "text": [
      "22\n",
      "33\n"
     ]
    }
   ],
   "source": [
    "def myfunc(n):\n",
    "    return lambda a : a * n\n",
    "\n",
    "mydoubler = myfunc (2)\n",
    "mytripler = myfunc (3)\n",
    "\n",
    "print(mydoubler(11))\n",
    "print(mytripler(11))"
   ]
  },
  {
   "cell_type": "code",
   "execution_count": null,
   "id": "6ada7e42",
   "metadata": {},
   "outputs": [],
   "source": []
  }
 ],
 "metadata": {
  "kernelspec": {
   "display_name": "Python 3 (ipykernel)",
   "language": "python",
   "name": "python3"
  },
  "language_info": {
   "codemirror_mode": {
    "name": "ipython",
    "version": 3
   },
   "file_extension": ".py",
   "mimetype": "text/x-python",
   "name": "python",
   "nbconvert_exporter": "python",
   "pygments_lexer": "ipython3",
   "version": "3.11.4"
  }
 },
 "nbformat": 4,
 "nbformat_minor": 5
}
