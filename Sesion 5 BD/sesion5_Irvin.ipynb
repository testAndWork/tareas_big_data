{
 "cells": [
  {
   "cell_type": "code",
   "execution_count": 1,
   "id": "b482c660",
   "metadata": {},
   "outputs": [
    {
     "data": {
      "text/plain": [
       "3"
      ]
     },
     "execution_count": 1,
     "metadata": {},
     "output_type": "execute_result"
    }
   ],
   "source": [
    "thislist = ['banana', 'cherry', 'apple']\n",
    "len(thislist)"
   ]
  },
  {
   "cell_type": "code",
   "execution_count": 3,
   "id": "02a2d456",
   "metadata": {},
   "outputs": [
    {
     "name": "stdout",
     "output_type": "stream",
     "text": [
      "['Tomate', 'papa', 'coliflor', 'zanahoria', 'cebolla']\n"
     ]
    }
   ],
   "source": [
    "vegetable_list = ['Tomate', 'papa', 'coliflor', 'zanahoria', 'cebolla']\n",
    "len(vegetable_list)\n",
    "print(vegetable_list)"
   ]
  },
  {
   "cell_type": "code",
   "execution_count": 4,
   "id": "69ab960b",
   "metadata": {},
   "outputs": [
    {
     "data": {
      "text/plain": [
       "60000"
      ]
     },
     "execution_count": 4,
     "metadata": {},
     "output_type": "execute_result"
    }
   ],
   "source": [
    "Paises_CA = ['El Salvador', 'Honduras', 'Nicaragua', 'Guatemala', 'Costa Rica', 'Panama', 'Belice']\n",
    "ventas_paises = [20000, 30000, 40000, 50000, 60000, 15000]\n",
    "max(ventas_paises)"
   ]
  },
  {
   "cell_type": "code",
   "execution_count": 5,
   "id": "95474968",
   "metadata": {},
   "outputs": [
    {
     "name": "stdout",
     "output_type": "stream",
     "text": [
      "['banana', 'cherry', 'apple']\n"
     ]
    }
   ],
   "source": [
    "print(thislist)"
   ]
  },
  {
   "cell_type": "code",
   "execution_count": 12,
   "id": "f6f4edba",
   "metadata": {},
   "outputs": [
    {
     "data": {
      "text/plain": [
       "['banana', 'cherry', 'apple', 'sandia', 'papaya']"
      ]
     },
     "execution_count": 12,
     "metadata": {},
     "output_type": "execute_result"
    }
   ],
   "source": [
    "thislist.append('papaya')\n",
    "thislist"
   ]
  },
  {
   "cell_type": "code",
   "execution_count": 8,
   "id": "8b814d93",
   "metadata": {},
   "outputs": [
    {
     "name": "stdout",
     "output_type": "stream",
     "text": [
      "[]\n"
     ]
    }
   ],
   "source": [
    "empty_list=[]\n",
    "print(empty_list)"
   ]
  },
  {
   "cell_type": "code",
   "execution_count": 11,
   "id": "d18792cd",
   "metadata": {},
   "outputs": [
    {
     "data": {
      "text/plain": [
       "['elemento1', 'elemento2', 'elemento3']"
      ]
     },
     "execution_count": 11,
     "metadata": {},
     "output_type": "execute_result"
    }
   ],
   "source": [
    "empty_list.append('elemento3')\n",
    "empty_list"
   ]
  },
  {
   "cell_type": "code",
   "execution_count": 14,
   "id": "3ce98274",
   "metadata": {},
   "outputs": [
    {
     "name": "stdout",
     "output_type": "stream",
     "text": [
      "<class 'list'>\n",
      "<class 'int'>\n"
     ]
    }
   ],
   "source": [
    "list_int = [1, 2, 3, 4, 5, 6, 7, 8]\n",
    "print(type(list_int))\n",
    "print(type(list_int[3]))"
   ]
  },
  {
   "cell_type": "code",
   "execution_count": 15,
   "id": "b13c8115",
   "metadata": {},
   "outputs": [
    {
     "name": "stdout",
     "output_type": "stream",
     "text": [
      "<class 'list'>\n",
      "<class 'float'>\n"
     ]
    }
   ],
   "source": [
    "list_float = [1.2, 2.1, 3.3, 4.5, 5.6, 6.4, 7.6, 8.9]\n",
    "print(type(list_float))\n",
    "print(type(list_float[3]))"
   ]
  },
  {
   "cell_type": "code",
   "execution_count": 16,
   "id": "28808ee9",
   "metadata": {},
   "outputs": [
    {
     "name": "stdout",
     "output_type": "stream",
     "text": [
      "<class 'list'>\n",
      "<class 'bool'>\n"
     ]
    }
   ],
   "source": [
    "list_bool = [True, False, False, True, True, False]\n",
    "print(type(list_bool))\n",
    "print(type(list_bool[3]))"
   ]
  },
  {
   "cell_type": "code",
   "execution_count": 18,
   "id": "217da3bf",
   "metadata": {},
   "outputs": [
    {
     "name": "stdout",
     "output_type": "stream",
     "text": [
      "<class 'list'>\n",
      "<class 'str'>\n"
     ]
    }
   ],
   "source": [
    "list_str = ['a', 'F', 'l', 'T', 'e', 'i']\n",
    "print(type(list_str))\n",
    "print(type(list_str[3]))"
   ]
  },
  {
   "cell_type": "code",
   "execution_count": 20,
   "id": "4e5161d3",
   "metadata": {},
   "outputs": [
    {
     "name": "stdout",
     "output_type": "stream",
     "text": [
      "<class 'list'>\n"
     ]
    }
   ],
   "source": [
    "list_type = ['holaa', False, 1, 2.2]\n",
    "print(type(list_type))"
   ]
  },
  {
   "cell_type": "code",
   "execution_count": 26,
   "id": "e44c0016",
   "metadata": {},
   "outputs": [
    {
     "name": "stdout",
     "output_type": "stream",
     "text": [
      "4\n"
     ]
    }
   ],
   "source": [
    "print(len(list_type))\n"
   ]
  },
  {
   "cell_type": "code",
   "execution_count": 27,
   "id": "a0c56119",
   "metadata": {},
   "outputs": [
    {
     "name": "stdout",
     "output_type": "stream",
     "text": [
      "<class 'str'>\n",
      "<class 'bool'>\n",
      "<class 'int'>\n"
     ]
    }
   ],
   "source": [
    "print(type(list_type[0]))\n",
    "print(type(list_type[1]))\n",
    "print(type(list_type[2]))"
   ]
  },
  {
   "cell_type": "code",
   "execution_count": 28,
   "id": "ab939652",
   "metadata": {},
   "outputs": [
    {
     "data": {
      "text/plain": [
       "[[1, 2, 3], [4, 5, 6], [7, 8, 9]]"
      ]
     },
     "execution_count": 28,
     "metadata": {},
     "output_type": "execute_result"
    }
   ],
   "source": [
    "ls_in_ls = [[1, 2, 3], [4, 5, 6], [7,8,9]]\n",
    "ls_in_ls"
   ]
  },
  {
   "cell_type": "code",
   "execution_count": 29,
   "id": "fdff33ed",
   "metadata": {},
   "outputs": [
    {
     "data": {
      "text/plain": [
       "6"
      ]
     },
     "execution_count": 29,
     "metadata": {},
     "output_type": "execute_result"
    }
   ],
   "source": [
    "max(ls_in_ls[1])"
   ]
  },
  {
   "cell_type": "code",
   "execution_count": 30,
   "id": "96800b20",
   "metadata": {},
   "outputs": [
    {
     "data": {
      "text/plain": [
       "9"
      ]
     },
     "execution_count": 30,
     "metadata": {},
     "output_type": "execute_result"
    }
   ],
   "source": [
    "max(ls_in_ls[2])"
   ]
  },
  {
   "cell_type": "code",
   "execution_count": 33,
   "id": "09c76c9f",
   "metadata": {},
   "outputs": [
    {
     "data": {
      "text/plain": [
       "['John Doe', 43, {'Pais': 'El Salvador', 'Ciudad': 'Soyapango'}, [1, 2, 3, 4]]"
      ]
     },
     "execution_count": 33,
     "metadata": {},
     "output_type": "execute_result"
    }
   ],
   "source": [
    "person_info = ['John Doe', 43, {'Pais': 'El Salvador',\n",
    "                               'Ciudad': 'Soyapango'},\n",
    "              [1,2,3,4]\n",
    "              ]\n",
    "person_info"
   ]
  },
  {
   "cell_type": "code",
   "execution_count": 34,
   "id": "f6835ff1",
   "metadata": {},
   "outputs": [
    {
     "name": "stdout",
     "output_type": "stream",
     "text": [
      "4\n"
     ]
    }
   ],
   "source": [
    "print(len(person_info))"
   ]
  },
  {
   "cell_type": "code",
   "execution_count": 35,
   "id": "0166163b",
   "metadata": {},
   "outputs": [
    {
     "name": "stdout",
     "output_type": "stream",
     "text": [
      "John Doe\n",
      "43\n",
      "{'Pais': 'El Salvador', 'Ciudad': 'Soyapango'}\n"
     ]
    }
   ],
   "source": [
    "print(person_info[0])\n",
    "print(person_info[1])\n",
    "print(person_info[2])"
   ]
  },
  {
   "cell_type": "code",
   "execution_count": 36,
   "id": "129c19a4",
   "metadata": {},
   "outputs": [
    {
     "name": "stdout",
     "output_type": "stream",
     "text": [
      "[1, 2, 3, 4]\n",
      "43\n",
      "[[1, 2, 3, 4], {'Pais': 'El Salvador', 'Ciudad': 'Soyapango'}, 43, 'John Doe']\n"
     ]
    }
   ],
   "source": [
    "print(person_info[-1])\n",
    "print(person_info[-3])\n",
    "print(person_info[::-1])"
   ]
  },
  {
   "cell_type": "code",
   "execution_count": 39,
   "id": "95d1d840",
   "metadata": {},
   "outputs": [
    {
     "name": "stdout",
     "output_type": "stream",
     "text": [
      "item1\n",
      "item2\n",
      "['item4', 'item5']\n"
     ]
    }
   ],
   "source": [
    "list_item = ['item1', 'item2', 'item3', 'item4', 'item5']\n",
    "first_item, second_item, third_item, *rest = list_item\n",
    "\n",
    "print(first_item)\n",
    "print(second_item)\n",
    "print(rest)"
   ]
  },
  {
   "cell_type": "code",
   "execution_count": 40,
   "id": "b0197445",
   "metadata": {},
   "outputs": [
    {
     "name": "stdout",
     "output_type": "stream",
     "text": [
      "['pina', 'melon', 'sandia']\n",
      "papaya\n",
      "jocote\n"
     ]
    }
   ],
   "source": [
    "frutas = ['papaya', 'jocote', 'pina', 'melon', 'sandia']\n",
    "\n",
    "fruta1, fruta2, *sobra = frutas\n",
    "\n",
    "print(sobra)\n",
    "print(fruta1)\n",
    "print(fruta2)"
   ]
  },
  {
   "cell_type": "code",
   "execution_count": 41,
   "id": "63938806",
   "metadata": {},
   "outputs": [
    {
     "name": "stdout",
     "output_type": "stream",
     "text": [
      "1\n",
      "12\n",
      "13\n",
      "[2, 3, 4, 5, 6, 7, 8, 9, 10, 11]\n"
     ]
    }
   ],
   "source": [
    "numTest = [1,2,3,4,5,6,7,8,9,10,11,12,13]\n",
    "\n",
    "n1, *n_centro, n_penultimo, n_ultimo = numTest\n",
    "\n",
    "print(n1)\n",
    "print(n_penultimo)\n",
    "print(n_ultimo)\n",
    "print(n_centro)"
   ]
  },
  {
   "cell_type": "code",
   "execution_count": 42,
   "id": "a9865f42",
   "metadata": {},
   "outputs": [
    {
     "name": "stdout",
     "output_type": "stream",
     "text": [
      "['apellido', 'edad', 'queja']\n",
      "ubicacion\n"
     ]
    }
   ],
   "source": [
    "info_problema = ['nombre', 'apellido', 'edad', 'queja', 'ubicacion']\n",
    "\n",
    "c1, *columnas, cf = info_problema\n",
    "\n",
    "print(columnas)\n",
    "print(cf)\n"
   ]
  },
  {
   "cell_type": "code",
   "execution_count": 43,
   "id": "1a5ecfdc",
   "metadata": {},
   "outputs": [
    {
     "data": {
      "text/plain": [
       "['item3', 'item4']"
      ]
     },
     "execution_count": 43,
     "metadata": {},
     "output_type": "execute_result"
    }
   ],
   "source": [
    "list_item = ['item1', 'item2', 'item3', 'item4', 'item5']\n",
    "\n",
    "sub_list = list_item[-3:-1]\n",
    "sub_list"
   ]
  },
  {
   "cell_type": "code",
   "execution_count": 44,
   "id": "b7842f06",
   "metadata": {},
   "outputs": [
    {
     "data": {
      "text/plain": [
       "['item1', 'item2', 'item3', 'no hay nada', 'item5']"
      ]
     },
     "execution_count": 44,
     "metadata": {},
     "output_type": "execute_result"
    }
   ],
   "source": [
    "list_item = ['item1', 'item2', 'item3', 'item4', 'item5']\n",
    "\n",
    "list_item[3] = 'no hay nada'\n",
    "list_item"
   ]
  },
  {
   "cell_type": "code",
   "execution_count": 46,
   "id": "402f5317",
   "metadata": {},
   "outputs": [
    {
     "data": {
      "text/plain": [
       "True"
      ]
     },
     "execution_count": 46,
     "metadata": {},
     "output_type": "execute_result"
    }
   ],
   "source": [
    "'item3' in list_item"
   ]
  },
  {
   "cell_type": "code",
   "execution_count": 47,
   "id": "f5eea311",
   "metadata": {},
   "outputs": [
    {
     "data": {
      "text/plain": [
       "['item1', 'item2', 'item2.5', 'item3', 'item4', 'item5']"
      ]
     },
     "execution_count": 47,
     "metadata": {},
     "output_type": "execute_result"
    }
   ],
   "source": [
    "list_item = ['item1', 'item2', 'item3', 'item4', 'item5']\n",
    "\n",
    "list_item.insert(2, 'item2.5')\n",
    "list_item"
   ]
  },
  {
   "cell_type": "code",
   "execution_count": 48,
   "id": "6275cda9",
   "metadata": {},
   "outputs": [
    {
     "name": "stdout",
     "output_type": "stream",
     "text": [
      "['item1', 'item2', 'item2.5', 'item3', 'item4', 'item5']\n"
     ]
    },
    {
     "data": {
      "text/plain": [
       "['item1', 'item2', 'item3', 'item4', 'item5']"
      ]
     },
     "execution_count": 48,
     "metadata": {},
     "output_type": "execute_result"
    }
   ],
   "source": [
    "print(list_item)\n",
    "\n",
    "list_item.remove('item2.5')\n",
    "list_item"
   ]
  },
  {
   "cell_type": "code",
   "execution_count": 49,
   "id": "739ec25d",
   "metadata": {},
   "outputs": [
    {
     "data": {
      "text/plain": [
       "['item1', 'item2', 'item3', 'item5']"
      ]
     },
     "execution_count": 49,
     "metadata": {},
     "output_type": "execute_result"
    }
   ],
   "source": [
    "list_item\n",
    "list_item.pop(3)\n",
    "list_item"
   ]
  },
  {
   "cell_type": "code",
   "execution_count": 52,
   "id": "22184445",
   "metadata": {},
   "outputs": [],
   "source": [
    "del list_item[0]"
   ]
  },
  {
   "cell_type": "code",
   "execution_count": 53,
   "id": "b8ed3352",
   "metadata": {},
   "outputs": [
    {
     "data": {
      "text/plain": [
       "['item2', 'item3', 'item5']"
      ]
     },
     "execution_count": 53,
     "metadata": {},
     "output_type": "execute_result"
    }
   ],
   "source": [
    "list_item"
   ]
  },
  {
   "cell_type": "code",
   "execution_count": 54,
   "id": "d28634da",
   "metadata": {},
   "outputs": [
    {
     "data": {
      "text/plain": [
       "[]"
      ]
     },
     "execution_count": 54,
     "metadata": {},
     "output_type": "execute_result"
    }
   ],
   "source": [
    "list_item.clear()\n",
    "list_item"
   ]
  },
  {
   "cell_type": "code",
   "execution_count": 55,
   "id": "5cd2541c",
   "metadata": {},
   "outputs": [
    {
     "data": {
      "text/plain": [
       "['item1', 'item2', 'item3', 'item4', 'item5']"
      ]
     },
     "execution_count": 55,
     "metadata": {},
     "output_type": "execute_result"
    }
   ],
   "source": [
    "list_item = ['item1', 'item2', 'item3', 'item4', 'item5']\n",
    "\n",
    "newlist = list_item.copy()\n",
    "newlist"
   ]
  },
  {
   "cell_type": "code",
   "execution_count": 56,
   "id": "b8791291",
   "metadata": {},
   "outputs": [
    {
     "data": {
      "text/plain": [
       "['item1',\n",
       " 'item2',\n",
       " 'item3',\n",
       " 'item4',\n",
       " 'item5',\n",
       " 'item1',\n",
       " 'item2',\n",
       " 'item3',\n",
       " 'item4',\n",
       " 'item5']"
      ]
     },
     "execution_count": 56,
     "metadata": {},
     "output_type": "execute_result"
    }
   ],
   "source": [
    "list_item1 = ['item1', 'item2', 'item3', 'item4', 'item5']\n",
    "list_item2 = ['item1', 'item2', 'item3', 'item4', 'item5']\n",
    "\n",
    "list_concatenada = list_item1 + list_item2\n",
    "list_concatenada"
   ]
  },
  {
   "cell_type": "code",
   "execution_count": 57,
   "id": "9be46821",
   "metadata": {},
   "outputs": [
    {
     "data": {
      "text/plain": [
       "2"
      ]
     },
     "execution_count": 57,
     "metadata": {},
     "output_type": "execute_result"
    }
   ],
   "source": [
    "list_concatenada.count('item2')"
   ]
  },
  {
   "cell_type": "code",
   "execution_count": 58,
   "id": "41d5720d",
   "metadata": {},
   "outputs": [
    {
     "data": {
      "text/plain": [
       "1"
      ]
     },
     "execution_count": 58,
     "metadata": {},
     "output_type": "execute_result"
    }
   ],
   "source": [
    "list_concatenada.index('item2')"
   ]
  },
  {
   "cell_type": "code",
   "execution_count": 61,
   "id": "017a49a2",
   "metadata": {},
   "outputs": [
    {
     "data": {
      "text/plain": [
       "['item1',\n",
       " 'item2',\n",
       " 'item3',\n",
       " 'item4',\n",
       " 'item5',\n",
       " 'item1',\n",
       " 'item2',\n",
       " 'item3',\n",
       " 'item4',\n",
       " 'item5']"
      ]
     },
     "execution_count": 61,
     "metadata": {},
     "output_type": "execute_result"
    }
   ],
   "source": [
    "list_concatenada.reverse()\n",
    "list_concatenada"
   ]
  },
  {
   "cell_type": "code",
   "execution_count": 59,
   "id": "a2bd7d43",
   "metadata": {},
   "outputs": [
    {
     "data": {
      "text/plain": [
       "['item1',\n",
       " 'item2',\n",
       " 'item3',\n",
       " 'item4',\n",
       " 'item5',\n",
       " 'item1',\n",
       " 'item2',\n",
       " 'item3',\n",
       " 'item4',\n",
       " 'item5']"
      ]
     },
     "execution_count": 59,
     "metadata": {},
     "output_type": "execute_result"
    }
   ],
   "source": [
    "list_concatenada"
   ]
  },
  {
   "cell_type": "code",
   "execution_count": 66,
   "id": "ec9869ee",
   "metadata": {},
   "outputs": [],
   "source": [
    "edades = [22, 21, 23, 30, 24, 25, 28, 26, 27, 28]\n"
   ]
  },
  {
   "cell_type": "code",
   "execution_count": 72,
   "id": "43da1b58",
   "metadata": {},
   "outputs": [],
   "source": [
    "edades.sort()"
   ]
  },
  {
   "cell_type": "code",
   "execution_count": 67,
   "id": "d121ab27",
   "metadata": {},
   "outputs": [
    {
     "data": {
      "text/plain": [
       "[22, 21, 23, 30, 24, 25, 28, 26, 27, 28]"
      ]
     },
     "execution_count": 67,
     "metadata": {},
     "output_type": "execute_result"
    }
   ],
   "source": [
    "edades"
   ]
  },
  {
   "cell_type": "code",
   "execution_count": 79,
   "id": "39320514",
   "metadata": {},
   "outputs": [
    {
     "data": {
      "text/plain": [
       "{1, 2, 3, 4, 5, 6, 7, 8}"
      ]
     },
     "execution_count": 79,
     "metadata": {},
     "output_type": "execute_result"
    }
   ],
   "source": [
    "set1 = {1,2,3,4}\n",
    "set2 = {5,6,7,8}\n",
    "\n",
    "set3 = set1.union(set2)\n",
    "set3"
   ]
  },
  {
   "cell_type": "code",
   "execution_count": null,
   "id": "eb2cfaf3",
   "metadata": {},
   "outputs": [],
   "source": []
  },
  {
   "cell_type": "code",
   "execution_count": null,
   "id": "68292774",
   "metadata": {},
   "outputs": [],
   "source": []
  }
 ],
 "metadata": {
  "kernelspec": {
   "display_name": "Python 3 (ipykernel)",
   "language": "python",
   "name": "python3"
  },
  "language_info": {
   "codemirror_mode": {
    "name": "ipython",
    "version": 3
   },
   "file_extension": ".py",
   "mimetype": "text/x-python",
   "name": "python",
   "nbconvert_exporter": "python",
   "pygments_lexer": "ipython3",
   "version": "3.11.4"
  }
 },
 "nbformat": 4,
 "nbformat_minor": 5
}
